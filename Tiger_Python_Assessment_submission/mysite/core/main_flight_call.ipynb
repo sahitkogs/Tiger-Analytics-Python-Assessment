{
 "cells": [
  {
   "cell_type": "markdown",
   "metadata": {},
   "source": [
    "## Summary of Flight Call data "
   ]
  },
  {
   "cell_type": "markdown",
   "metadata": {},
   "source": [
    "### Installed the required packages \n",
    "- Installed the required packages and also importing the functions required from other python files"
   ]
  },
  {
   "cell_type": "code",
   "execution_count": 11,
   "metadata": {},
   "outputs": [],
   "source": [
    "import logging\n",
    "import pandas as pd\n",
    "import os\n",
    "from os import listdir\n",
    "from os.path import isfile, join\n",
    "import sys\n",
    "from os import environ\n",
    "from IPython import embed\n",
    "import numpy as np\n",
    "import matplotlib.pyplot as plt\n",
    "import plotly.express as px\n",
    "\n",
    "from data_loading import data_loading, dataframe_columns_check\n",
    "from data_cleaning import column_renaming, removing_duplicates, removing_missing_values\n",
    "from helpers import data_summary"
   ]
  },
  {
   "cell_type": "markdown",
   "metadata": {},
   "source": [
    "### Reading the raw data \n",
    "- Have passed the location of the raw data as a environment variable"
   ]
  },
  {
   "cell_type": "code",
   "execution_count": 12,
   "metadata": {},
   "outputs": [],
   "source": [
    "# Path of the uploaded json file\n",
    "path = environ['flight_call']\n",
    "\n",
    "# Loading the data and assigning a name to the dataframe\n",
    "flight_call = data_loading(path)\n",
    "flight_call.name = 'flight_call'"
   ]
  },
  {
   "cell_type": "markdown",
   "metadata": {},
   "source": [
    "### Checking if the required set of columns are present in the raw data"
   ]
  },
  {
   "cell_type": "code",
   "execution_count": 13,
   "metadata": {},
   "outputs": [
    {
     "name": "stdout",
     "output_type": "stream",
     "text": [
      "Columns in raw data: ['Species', 'Family', 'Collisions', 'Flight', 'Call', 'Habitat', 'Stratum']\n",
      "\n",
      "Required columns: ['Species', 'Family', 'Collisions', 'Flight', 'Call', 'Habitat', 'Stratum']\n",
      "\n",
      "Check: The uploaded data has the required set of columns\n"
     ]
    }
   ],
   "source": [
    "# Columns which are required in the uploaded data\n",
    "required_columns = ['Species', 'Family', 'Collisions', 'Flight', 'Call', 'Habitat','Stratum']\n",
    "\n",
    "# checking the required set of columns are present in the uploaded file\n",
    "if dataframe_columns_check(flight_call, required_columns):\n",
    "    print (\"Columns in raw data:\", list(flight_call.columns))\n",
    "    print (\"\\nRequired columns:\", required_columns)\n",
    "    print (\"\\nCheck: The uploaded data has the required set of columns\")\n",
    "else:\n",
    "    print (\"Check: The uploaded data does not have the required set of columns\")"
   ]
  },
  {
   "cell_type": "markdown",
   "metadata": {},
   "source": [
    "### Renaming the columns as required "
   ]
  },
  {
   "cell_type": "code",
   "execution_count": 14,
   "metadata": {},
   "outputs": [
    {
     "name": "stdout",
     "output_type": "stream",
     "text": [
      "Columns in raw data:  ['Species', 'Family', 'Collisions', 'Flight', 'Call', 'Habitat', 'Stratum']\n",
      "\n",
      "Columns in processed data:  ['Genus', 'Species', 'Family', 'Flight', 'Flight Call', 'Habitat', 'Stratum']\n"
     ]
    }
   ],
   "source": [
    "print(\"Columns in raw data: \", list(flight_call.columns))\n",
    "flight_call = column_renaming(flight_call, required=True)\n",
    "print(\"\\nColumns in processed data: \", list(flight_call.columns))"
   ]
  },
  {
   "cell_type": "markdown",
   "metadata": {},
   "source": [
    "### Removing the duplicate rows in the data "
   ]
  },
  {
   "cell_type": "code",
   "execution_count": 15,
   "metadata": {},
   "outputs": [
    {
     "name": "stdout",
     "output_type": "stream",
     "text": [
      "Row count in the raw data:  96\n",
      "Row count after removing duplicates:  91\n"
     ]
    }
   ],
   "source": [
    "print(\"Row count in the raw data: \", flight_call.shape[0])\n",
    "flight_call = removing_duplicates(flight_call)\n",
    "print(\"Row count after removing duplicates: \", flight_call.shape[0])"
   ]
  },
  {
   "cell_type": "markdown",
   "metadata": {},
   "source": [
    "### MIssing values treatment "
   ]
  },
  {
   "cell_type": "code",
   "execution_count": 16,
   "metadata": {},
   "outputs": [
    {
     "name": "stdout",
     "output_type": "stream",
     "text": [
      "Row count in the raw data:  91\n",
      "Row count after removing rows with missing values:  91\n"
     ]
    }
   ],
   "source": [
    "print(\"Row count in the raw data: \", flight_call.shape[0])\n",
    "flight_call = removing_missing_values(flight_call)\n",
    "print(\"Row count after removing rows with missing values: \", flight_call.shape[0])"
   ]
  },
  {
   "cell_type": "markdown",
   "metadata": {},
   "source": [
    "### Data exploration analysis "
   ]
  },
  {
   "cell_type": "markdown",
   "metadata": {},
   "source": [
    "#### Basic data description "
   ]
  },
  {
   "cell_type": "code",
   "execution_count": 17,
   "metadata": {},
   "outputs": [
    {
     "name": "stdout",
     "output_type": "stream",
     "text": [
      "Dataframe name  : flight_call\n",
      "\n",
      "Rows     :  91\n",
      "Columns  :  7\n",
      "\n",
      "Features : \n",
      " ['Genus', 'Species', 'Family', 'Flight', 'Flight Call', 'Habitat', 'Stratum']\n",
      "\n",
      "Missing values in each column:   [0, 0, 0, 0, 0, 0, 0]\n",
      "\n",
      "Unique values :  \n",
      " Genus          52\n",
      "Species        84\n",
      "Family         15\n",
      "Flight         81\n",
      "Flight Call     5\n",
      "Habitat         6\n",
      "Stratum         3\n",
      "dtype: int64\n",
      "\n",
      "\n",
      " ######################################\n"
     ]
    }
   ],
   "source": [
    "data_summary(flight_call)"
   ]
  },
  {
   "cell_type": "code",
   "execution_count": 18,
   "metadata": {},
   "outputs": [
    {
     "name": "stdout",
     "output_type": "stream",
     "text": [
      "<class 'pandas.core.frame.DataFrame'>\n",
      "Int64Index: 91 entries, 0 to 90\n",
      "Data columns (total 7 columns):\n",
      "Genus          91 non-null object\n",
      "Species        91 non-null object\n",
      "Family         91 non-null object\n",
      "Flight         91 non-null int64\n",
      "Flight Call    91 non-null object\n",
      "Habitat        91 non-null object\n",
      "Stratum        91 non-null object\n",
      "dtypes: int64(1), object(6)\n",
      "memory usage: 5.7+ KB\n"
     ]
    }
   ],
   "source": [
    "# Anaysing the column data type\n",
    "flight_call.info()"
   ]
  },
  {
   "cell_type": "markdown",
   "metadata": {},
   "source": [
    "### Saving the processed data "
   ]
  },
  {
   "cell_type": "code",
   "execution_count": null,
   "metadata": {},
   "outputs": [],
   "source": [
    "csv_files_address = \"/home/sahit/Documents/MLE_opportunities_with_Tiger_Analytics/simple_dj_docker/media/CSV_files/\"\n",
    "file_name = os.path.join(csv_files_address,os.path.basename(path).split('.')[0])\n",
    "flight_call.to_csv(file_name+'.csv', index=False)"
   ]
  }
 ],
 "metadata": {
  "kernelspec": {
   "display_name": "Python 3",
   "language": "python",
   "name": "python3"
  },
  "language_info": {
   "codemirror_mode": {
    "name": "ipython",
    "version": 3
   },
   "file_extension": ".py",
   "mimetype": "text/x-python",
   "name": "python",
   "nbconvert_exporter": "python",
   "pygments_lexer": "ipython3",
   "version": "3.7.4"
  },
  "toc": {
   "base_numbering": 1,
   "nav_menu": {},
   "number_sections": true,
   "sideBar": true,
   "skip_h1_title": false,
   "title_cell": "Table of Contents",
   "title_sidebar": "Contents",
   "toc_cell": false,
   "toc_position": {},
   "toc_section_display": true,
   "toc_window_display": true
  }
 },
 "nbformat": 4,
 "nbformat_minor": 2
}
